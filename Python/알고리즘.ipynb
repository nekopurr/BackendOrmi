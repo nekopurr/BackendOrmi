{
  "nbformat": 4,
  "nbformat_minor": 0,
  "metadata": {
    "colab": {
      "provenance": []
    },
    "kernelspec": {
      "name": "python3",
      "display_name": "Python 3"
    },
    "language_info": {
      "name": "python"
    }
  },
  "cells": [
    {
      "cell_type": "markdown",
      "source": [
        "## 연결리스트"
      ],
      "metadata": {
        "id": "sTkgrk6kXnPd"
      }
    },
    {
      "cell_type": "code",
      "execution_count": null,
      "metadata": {
        "id": "neIMthKmRjRb"
      },
      "outputs": [],
      "source": [
        "# 연결리스트를 사용하여 구현하는 것이 일반적이지만 \n",
        "# 연결리스트가 다음 챕터에 나오기 때문에 리스트로 구현하도록 하겠습니다.\n",
        "\n",
        "# 연결리스트가 뒤에 배치된 것은 의도한 것입니다. \n",
        "# 쉬운 접근 -> 어려운 접근으로 점진적 부하를 드리기 위함입니다.\n",
        "\n",
        "# https://ko.wikipedia.org/wiki/%EC%8A%A4%ED%83%9D 이러한 모습에 \n",
        "# ADT를(Abstract Data Type, 추상자료형) 구현하면 되는 것입니다.\n",
        "class Stack:\n",
        "    def __init__(self):\n",
        "        self.리스트 = []\n",
        "\n",
        "    def top(self):\n",
        "        return self.리스트[-1]\n",
        "\n",
        "    def pop(self):\n",
        "        return self.리스트.pop()\n",
        "\n",
        "    def push(self, data):\n",
        "        self.리스트.append(data)\n",
        "\n",
        "    def empty(self):\n",
        "        if self.리스트:\n",
        "            return 0\n",
        "        return 1"
      ]
    },
    {
      "cell_type": "code",
      "source": [
        "s = Stack()\n",
        "s.push(10)\n",
        "s.push(20)\n",
        "s.push(30)\n",
        "s.리스트"
      ],
      "metadata": {
        "id": "cD29onfwXqHW"
      },
      "execution_count": null,
      "outputs": []
    },
    {
      "cell_type": "code",
      "source": [
        "# 2차원 좌표 문제\n",
        "# 다음 2차원 좌표가 주어질 때 거리가 가장 짧은 것을 구하라\n",
        "# l = [[(10, 15), (21, 11)], [(11, 13), (23, 21)], [(1, 3), (3, 11)]]\n",
        "# 1 step\n",
        "# '좌표'라는 classs 만들어서\n",
        "# 2 step\n",
        "# '거리'라는 ADT 구상 : 거리라는 메서드는 두 점 사이에 거리를 구합니다.\n",
        "# 3 step\n",
        "# 구현하여 문제 풀이\n",
        "\n",
        "# 이렇게 까지 해야 할까? 나는 피타고라스 정의 바로 적용해서 정렬해서 풀어버리고 싶은데\n",
        "# 이렇게 풀어도 됩니다.\n",
        "# 그런데 앞으로 이 자료형이 재사용 된다고 생각한다면 class로 정의해서 푸는 방향이 옳을 수 있습니다.\n",
        "\n",
        "# 예를 들어 Django에서 Data를 저장하는 object는 단순 dict가 아닙니다!\n",
        "# 그러니까 이것도 누군가 필요에 의해 만든 것입니다!"
      ],
      "metadata": {
        "id": "4heHyNn_Xmm6"
      },
      "execution_count": null,
      "outputs": []
    },
    {
      "cell_type": "code",
      "source": [
        "# 가장 쉽게 (기본 자료형을 사용하여) 만들어낸 링크드 리스트\n",
        "# 22 2 77 6\n",
        "연결리스트 = {\n",
        "    'value': 22,\n",
        "    'next': {\n",
        "        'value' : 2,\n",
        "        'next' : {\n",
        "            'value' : 77,\n",
        "            'next' : {\n",
        "                'value' : 6,\n",
        "                'next' : None\n",
        "            }\n",
        "        }\n",
        "    }\n",
        "}\n",
        "\n",
        "# 우리가 실제 하고 싶은 것?\n",
        "연결리스트['value']\n",
        "연결리스트['next']['value']\n",
        "연결리스트['next']['next']['value'] # 우리가 원하는 값인가요? 그러면 stop"
      ],
      "metadata": {
        "id": "KP5yNoWvXsLb"
      },
      "execution_count": null,
      "outputs": []
    },
    {
      "cell_type": "code",
      "source": [
        "head = {\n",
        "    'value' : 90,\n",
        "    'next' : {\n",
        "        'value' : 2,\n",
        "        'next' : {\n",
        "            'value' : 77,\n",
        "            'next' : {\n",
        "                'value' : 35,\n",
        "                'next' : {\n",
        "                    'value' : 21,\n",
        "                    'next' : None\n",
        "                }\n",
        "            }\n",
        "        }\n",
        "    }\n",
        "}\n",
        "\n",
        "head['next']['next']['next']['value']"
      ],
      "metadata": {
        "id": "ciOpkD1zXtH8"
      },
      "execution_count": null,
      "outputs": []
    },
    {
      "cell_type": "code",
      "source": [
        "연결리스트 = {\n",
        "            'head': {\n",
        "                'value': 90,\n",
        "                'next': {\n",
        "                    'value': 2,\n",
        "                    'next': {\n",
        "                        'value': 77,\n",
        "                        'next': {\n",
        "                            'value': 35,\n",
        "                            'next': {\n",
        "                                'value': 21,\n",
        "                                'next': None\n",
        "                            }\n",
        "                        }\n",
        "                    }\n",
        "                }\n",
        "            }\n",
        "        }\n",
        "연결리스트['head']['next']['next']['next']['value']"
      ],
      "metadata": {
        "colab": {
          "base_uri": "https://localhost:8080/"
        },
        "id": "w6RzpZBSY9pX",
        "outputId": "63fd1623-825e-4fa5-e46f-5b23971662b4"
      },
      "execution_count": null,
      "outputs": [
        {
          "output_type": "execute_result",
          "data": {
            "text/plain": [
              "35"
            ]
          },
          "metadata": {},
          "execution_count": 1
        }
      ]
    },
    {
      "cell_type": "code",
      "source": [
        "# [90, next] -> [2, next] -> [77, next] -> [35, next] -> [21, next] \n",
        "노드1 = {\n",
        "    'value': 90,\n",
        "    'next': None\n",
        "}\n",
        "\n",
        "노드2 = {\n",
        "    'value': 2,\n",
        "    'next': None\n",
        "}\n",
        "\n",
        "노드3 = {\n",
        "    'value': 77,\n",
        "    'next': None\n",
        "}\n",
        "\n",
        "노드4 = {\n",
        "    'value': 35,\n",
        "    'next': None\n",
        "}\n",
        "\n",
        "노드5 = {\n",
        "    'value': 21,\n",
        "    'next': None\n",
        "}\n",
        "\n",
        "노드1['next'] = 노드2\n",
        "노드2['next'] = 노드3\n",
        "노드3['next'] = 노드4\n",
        "노드4['next'] = 노드5\n",
        "\n",
        "노드1['next']['next']['next']['value']"
      ],
      "metadata": {
        "id": "rwk0-_dEY8Qn"
      },
      "execution_count": null,
      "outputs": []
    },
    {
      "cell_type": "code",
      "source": [
        "# [90, next] -> [2, next] -> [77, next] -> [35, next] -> [21, next]\n",
        "# class가 너무 어려워요. 저는 그냥 dict로 구현하고 싶습니다.\n",
        "# dict는 무겁습니다.\n",
        "# 확장성이나 유지보수라는 면을 보았을 때에는 아래와 같이 구현하는 것을 권합니다.\n",
        "class Node:\n",
        "    def __init__(self, data):\n",
        "        self.value = data\n",
        "        self.next = None\n",
        "\n",
        "\n",
        "노드1 = Node(90)\n",
        "노드2 = Node(2)\n",
        "노드3 = Node(77)\n",
        "노드4 = Node(35)\n",
        "노드5 = Node(21)\n",
        "\n",
        "노드1.next = 노드2\n",
        "노드2.next = 노드3\n",
        "노드3.next = 노드4\n",
        "노드4.next = 노드5\n",
        "\n",
        "노드1.next.next.next.value"
      ],
      "metadata": {
        "id": "q1zSCl0Zckm3"
      },
      "execution_count": null,
      "outputs": []
    },
    {
      "cell_type": "code",
      "source": [
        "# step 1\n",
        "# 'LinkedList' 라는 class 만들어서\n",
        "# step 2\n",
        "# 'append', 'pop', 'remove', 'dedeuplication'와 같은 ADT 구상\n",
        "# 거리라는 메서드는 두 점 사이의 거리를 구합니다\n",
        "# step 3\n",
        "# 구현하여 문제 풀이"
      ],
      "metadata": {
        "id": "oN2wbP7Vd01P"
      },
      "execution_count": null,
      "outputs": []
    },
    {
      "cell_type": "code",
      "source": [
        "# 변수를 하나 만들면\n",
        "# 자료구조가 무거워집니다. (순회를 돌거나, 여러 인스턴스를 생성하면 시간이 많이 걸리게 됩니다!)\n",
        "# head -> ['init', next]\n",
        "#               ↑ \n",
        "#              tail\n",
        "# head -> ['init', next] -> [90, next]\n",
        "#                               ↑ \n",
        "#        \n",
        "\n",
        "\n",
        "class Node:\n",
        "    def __init__(self, data):\n",
        "        self.data = data\n",
        "        self.next = None\n",
        "\n",
        "class LinkedList:\n",
        "    def __init__(self):\n",
        "        init = Node('init')\n",
        "        self.head = init\n",
        "        self.tail = init\n",
        "        self.count = 0 # 데이터 수\n",
        "\n",
        "    def __len__(self):\n",
        "        return self.count\n",
        "    \n",
        "    def append(self, data):\n",
        "        newNode = Node(data)\n",
        "        self.tail.next = newNode\n",
        "        self.tail = newNode\n",
        "        self.count += 1\n",
        "\n",
        "l = LinkedList()\n",
        "l.append(90)\n",
        "l.append(80)\n",
        "l.append(70)\n",
        "l.append(60)\n",
        "len(l)\n",
        "\n",
        "l.head.next.data"
      ],
      "metadata": {
        "colab": {
          "base_uri": "https://localhost:8080/"
        },
        "id": "005QQEDOeYV8",
        "outputId": "894a7e43-e500-4805-8918-891ea7fb5c63"
      },
      "execution_count": null,
      "outputs": [
        {
          "output_type": "execute_result",
          "data": {
            "text/plain": [
              "90"
            ]
          },
          "metadata": {},
          "execution_count": 4
        }
      ]
    },
    {
      "cell_type": "code",
      "source": [
        "# 변수를 하나 만들면\n",
        "# 자료구조가 무거워집니다. (순회를 돌거나, 여러 인스턴스를 생성하면 시간이 많이 걸리게 됩니다!)\n",
        "# head -> ['init', next]\n",
        "#               ↑ \n",
        "#              tail\n",
        "# head -> ['init', next] -> [90, next]\n",
        "#                               ↑ \n",
        "#        \n",
        "\n",
        "\n",
        "class Node:\n",
        "    def __init__(self, data):\n",
        "        self.data = data\n",
        "        self.next = None\n",
        "\n",
        "class LinkedList:\n",
        "    def __init__(self):\n",
        "        init = Node('init')\n",
        "        self.head = init\n",
        "        self.tail = init\n",
        "        self.count = 0\n",
        "\n",
        "    def __len__(self):\n",
        "        return self.count\n",
        "\n",
        "    def __str__(self):\n",
        "        s = ''\n",
        "        currentNode = self.head\n",
        "        currentNode = currentNode.next\n",
        "        s += str(currentNode.data)\n",
        "        currentNode = currentNode.next\n",
        "        s += str(currentNode.data)\n",
        "        currentNode = currentNode.next\n",
        "        s += str(currentNode.data)\n",
        "        return s\n",
        "\n",
        "    def append(self, data):\n",
        "        newNode = Node(data)\n",
        "        self.tail.next = newNode\n",
        "        self.tail = newNode\n",
        "        self.count += 1\n",
        "\n",
        "l = LinkedList()\n",
        "l.append(90)\n",
        "l.append(2)\n",
        "l.append(77)\n",
        "l.append(35)\n",
        "l.append(21)\n",
        "\n",
        "print(l)"
      ],
      "metadata": {
        "colab": {
          "base_uri": "https://localhost:8080/"
        },
        "id": "NVfln-t9f6Fl",
        "outputId": "a9489b2e-d43d-41d1-c0de-22af93c6fe7a"
      },
      "execution_count": null,
      "outputs": [
        {
          "output_type": "stream",
          "name": "stdout",
          "text": [
            "90277\n"
          ]
        }
      ]
    },
    {
      "cell_type": "code",
      "source": [
        "class Node:\n",
        "    def __init__(self, data):\n",
        "        self.data = data\n",
        "        self.next = None\n",
        "\n",
        "class LinkedList:\n",
        "    def __init__(self):\n",
        "        init = Node('init')\n",
        "        self.head = init\n",
        "        self.tail = init\n",
        "        self.count = 0\n",
        "\n",
        "    def __len__(self):\n",
        "        return self.count\n",
        "\n",
        "    def __str__(self):\n",
        "        s = ''\n",
        "        currentNode = self.head\n",
        "        currentNode = currentNode.next\n",
        "        for i in range(self.count):\n",
        "            s += f'{currentNode.data}, '\n",
        "            currentNode = currentNode.next\n",
        "        return f'<{s[:-2]}>'\n",
        "\n",
        "    def append(self, data):\n",
        "        newNode = Node(data)\n",
        "        self.tail.next = newNode\n",
        "        self.tail = newNode\n",
        "        self.count += 1\n",
        "\n",
        "    def pop(self):\n",
        "        lastValue = self.tail.data\n",
        "        currentNode = self.head\n",
        "        for i in range(self.count):\n",
        "            if currentNode.next is self.tail:\n",
        "                self.tail = currentNode\n",
        "                break\n",
        "            currentNode = currentNode.next\n",
        "        self.count -= 1\n",
        "        return lastValue\n",
        "\n",
        "    def find(self, data):\n",
        "        index = -1\n",
        "        currentNode = self.head\n",
        "        for i in range(self.count):\n",
        "            if currentNode.data == data:\n",
        "                return index\n",
        "            index += 1\n",
        "            currentNode = currentNode.next\n",
        "        return index\n",
        "        \n",
        "l = LinkedList()\n",
        "l.append(90)\n",
        "l.append(2)\n",
        "l.append(77)\n",
        "l.append(35)\n",
        "l.append(21)\n",
        "\n",
        "print(l)"
      ],
      "metadata": {
        "colab": {
          "base_uri": "https://localhost:8080/"
        },
        "id": "c8vP-8QTj9xZ",
        "outputId": "8a3a062d-cf75-4970-8d21-389c7bb25633"
      },
      "execution_count": null,
      "outputs": [
        {
          "output_type": "stream",
          "name": "stdout",
          "text": [
            "<90, 2, 77, 35, 21>\n"
          ]
        }
      ]
    },
    {
      "cell_type": "code",
      "source": [
        "l.pop()"
      ],
      "metadata": {
        "colab": {
          "base_uri": "https://localhost:8080/"
        },
        "id": "saa3WJ1p5RhZ",
        "outputId": "aa6c0303-8624-4f1c-e357-52d76efe18e1"
      },
      "execution_count": null,
      "outputs": [
        {
          "output_type": "execute_result",
          "data": {
            "text/plain": [
              "77"
            ]
          },
          "metadata": {},
          "execution_count": 42
        }
      ]
    },
    {
      "cell_type": "code",
      "source": [
        "print(l)"
      ],
      "metadata": {
        "colab": {
          "base_uri": "https://localhost:8080/"
        },
        "id": "t5QlOkw05l99",
        "outputId": "2d6cdb21-8a07-4bb6-c5f3-61d4006e95c0"
      },
      "execution_count": null,
      "outputs": [
        {
          "output_type": "stream",
          "name": "stdout",
          "text": [
            "<90, 2>\n"
          ]
        }
      ]
    },
    {
      "cell_type": "code",
      "source": [
        "l.find(77)"
      ],
      "metadata": {
        "colab": {
          "base_uri": "https://localhost:8080/"
        },
        "id": "MmBu4_rQ7God",
        "outputId": "feffdb1d-9d13-45a2-8392-badca646c6a7"
      },
      "execution_count": null,
      "outputs": [
        {
          "output_type": "execute_result",
          "data": {
            "text/plain": [
              "2"
            ]
          },
          "metadata": {},
          "execution_count": 50
        }
      ]
    },
    {
      "cell_type": "code",
      "source": [
        "# Final Step\n",
        "class Node:\n",
        "    def __init__(self, data):\n",
        "        self.data = data\n",
        "        self.next = None\n",
        "\n",
        "class LinkedList:\n",
        "    def __init__(self):\n",
        "        init = Node('init')\n",
        "        self.head = init\n",
        "        self.tail = init\n",
        "        self.count = 0\n",
        "\n",
        "    def __iter__(self):\n",
        "        currentNode = self.head\n",
        "        currentNode = currentNode.next\n",
        "        while currentNode:\n",
        "            yield currentNode.data\n",
        "            currentNode = currentNode.next\n",
        "\n",
        "    def __len__(self):\n",
        "        return self.count\n",
        "\n",
        "    def __str__(self):\n",
        "        s = ''\n",
        "        currentNode = self.head\n",
        "        currentNode = currentNode.next\n",
        "        for i in range(self.count):\n",
        "            s += f'{currentNode.data}, '\n",
        "            currentNode = currentNode.next\n",
        "        return f'<{s[:-2]}>'\n",
        "\n",
        "    def append(self, data):\n",
        "        newNode = Node(data)\n",
        "        self.tail.next = newNode\n",
        "        self.tail = newNode\n",
        "        self.count += 1\n",
        "\n",
        "    def pop(self):\n",
        "        lastValue = self.tail.data\n",
        "        currentNode = self.head\n",
        "        for i in range(self.count):\n",
        "            if currentNode.next is self.tail:\n",
        "                self.tail = currentNode\n",
        "                break\n",
        "            currentNode = currentNode.next\n",
        "        self.count -= 1\n",
        "        return lastValue\n",
        "\n",
        "    def find(self, data):\n",
        "        index = -1\n",
        "        currentNode = self.head\n",
        "        for i in range(self.count):\n",
        "            if currentNode.data == data:\n",
        "                return index\n",
        "            index += 1\n",
        "            currentNode = currentNode.next\n",
        "        return index\n",
        "        \n",
        "l = LinkedList()\n",
        "l.append(90)\n",
        "l.append(2)\n",
        "l.append(77)\n",
        "l.append(35)\n",
        "l.append(21)\n",
        "\n",
        "# next 없이 __iter__으로 반복문이 가능하게 할 수 있습니다.\n",
        "for i in l:\n",
        "    print(i)"
      ],
      "metadata": {
        "colab": {
          "base_uri": "https://localhost:8080/"
        },
        "id": "kxedROuw71rY",
        "outputId": "60a10778-3a60-4f57-e689-34cb309d55de"
      },
      "execution_count": null,
      "outputs": [
        {
          "output_type": "stream",
          "name": "stdout",
          "text": [
            "90\n",
            "2\n",
            "77\n",
            "35\n",
            "21\n"
          ]
        }
      ]
    },
    {
      "cell_type": "code",
      "source": [
        "# [90, 2, 77, 35, 21]\n",
        "# <90, 2, 77, 35, 21>"
      ],
      "metadata": {
        "id": "SOjza7HXhvHY"
      },
      "execution_count": null,
      "outputs": []
    },
    {
      "cell_type": "markdown",
      "source": [
        "* 과제 1 : 이해가 안되시는 부분은 손으로 직접 써보세요.\n",
        "* 과제 2 : 여러 기능을 더 구현해서 제대로 된 linked list를 만들려고 노력해보시요. (shift, unshift, get, +, *)"
      ],
      "metadata": {
        "id": "aOaSamac9GcL"
      }
    },
    {
      "cell_type": "code",
      "source": [
        "[1, 2, 3] + [3, 4, 5]\n",
        "[1. 2. 3] * 2"
      ],
      "metadata": {
        "colab": {
          "base_uri": "https://localhost:8080/"
        },
        "id": "Tr4wePMTii9d",
        "outputId": "d0969f54-77e4-4aa5-d208-c9ae0d91c5ec"
      },
      "execution_count": null,
      "outputs": [
        {
          "output_type": "execute_result",
          "data": {
            "text/plain": [
              "[1, 2, 3, 3, 4, 5]"
            ]
          },
          "metadata": {},
          "execution_count": 54
        }
      ]
    },
    {
      "cell_type": "code",
      "source": [
        "# 이러한 형태가 어디서 사용이 되는지 dict로 확인해보겠습니다.\n",
        "# 더블 링크드 리스트\n",
        "node1 = {\n",
        "    'pre' : None,\n",
        "    'data' : 10,\n",
        "    'next' : None\n",
        "}\n",
        "\n",
        "node2 = {\n",
        "    'pre' : None,\n",
        "    'data' : 20,\n",
        "    'next' : None\n",
        "}\n",
        "\n",
        "node3 = {\n",
        "    'pre' : None,\n",
        "    'data' : 30,\n",
        "    'next' : None\n",
        "}\n",
        "\n",
        "node1['next'] = node2\n",
        "\n",
        "node2['pre'] = node1\n",
        "node2['next'] = node3\n",
        "\n",
        "node3['pre'] = node2\n",
        "# node3['next'] = node1\n"
      ],
      "metadata": {
        "id": "RXWvjJZY9R-v"
      },
      "execution_count": null,
      "outputs": []
    },
    {
      "cell_type": "code",
      "source": [
        "# 이진트리\n",
        "node1 = {\n",
        "    'left' : [],\n",
        "    'data' : 20,\n",
        "    'right' : []\n",
        "}\n",
        "\n",
        "node2 = {\n",
        "    'left' : [],\n",
        "    'data' : 5,\n",
        "    'right' : []\n",
        "}\n",
        "\n",
        "node3 = {\n",
        "    'left' : [],\n",
        "    'data' : 10,\n",
        "    'right' : []\n",
        "}\n",
        "\n",
        "node4 = {\n",
        "    'left' : [],\n",
        "    'data' : 30,\n",
        "    'right' : []\n",
        "}\n",
        "\n",
        "node1['left'].append(node2)\n",
        "node1['left'].append(node3)\n",
        "node1['right'].append(node4)\n",
        "\n",
        "node1['left']\n"
      ],
      "metadata": {
        "colab": {
          "base_uri": "https://localhost:8080/"
        },
        "id": "Mt0Dfoyj_FbT",
        "outputId": "e1d70d50-8220-4908-b419-9110b4ea54bd"
      },
      "execution_count": null,
      "outputs": [
        {
          "output_type": "execute_result",
          "data": {
            "text/plain": [
              "[{'left': [], 'data': 5, 'right': []}, {'left': [], 'data': 10, 'right': []}]"
            ]
          },
          "metadata": {},
          "execution_count": 56
        }
      ]
    },
    {
      "cell_type": "code",
      "source": [
        "%%timeit\n",
        "\n",
        "def fib(n):\n",
        "    _curr, _next = 0, 1\n",
        "    for _ in range(n):\n",
        "        _curr, _next = _next, _curr + _next\n",
        "    return _curr\n",
        "\n",
        "fib(25)"
      ],
      "metadata": {
        "id": "5naJHA6FBrkP"
      },
      "execution_count": null,
      "outputs": []
    },
    {
      "cell_type": "code",
      "source": [
        "%%timeit\n",
        "\n",
        "def fib(n):\n",
        "    if n == 0:\n",
        "        return 0\n",
        "    elif n == 1 or n == 2:\n",
        "        return 1\n",
        "    else:\n",
        "        return fib(n - 1) + fib(n - 2)\n",
        "\n",
        "fib(25)"
      ],
      "metadata": {
        "id": "kut8ho0IBsv1"
      },
      "execution_count": null,
      "outputs": []
    },
    {
      "cell_type": "markdown",
      "source": [
        "## O(1)"
      ],
      "metadata": {
        "id": "aV7v0wpCGPXE"
      }
    },
    {
      "cell_type": "code",
      "source": [
        "n = 100\n",
        "s = n * (n + 1) / 2\n",
        "s"
      ],
      "metadata": {
        "colab": {
          "base_uri": "https://localhost:8080/"
        },
        "id": "7LANDaizF2I4",
        "outputId": "96765187-b254-4f69-e6fc-27ac241ae35f"
      },
      "execution_count": null,
      "outputs": [
        {
          "output_type": "execute_result",
          "data": {
            "text/plain": [
              "5050.0"
            ]
          },
          "metadata": {},
          "execution_count": 57
        }
      ]
    },
    {
      "cell_type": "markdown",
      "source": [
        "## O(n)"
      ],
      "metadata": {
        "id": "uZhlkZpRGViZ"
      }
    },
    {
      "cell_type": "code",
      "source": [],
      "metadata": {
        "id": "4RIGAeXvGU1U"
      },
      "execution_count": null,
      "outputs": []
    },
    {
      "cell_type": "markdown",
      "source": [
        "연습문제"
      ],
      "metadata": {
        "id": "al_H-WA0IaBq"
      }
    },
    {
      "cell_type": "code",
      "source": [
        "from collections import Counter\n",
        "Counter([1, 1, 1, 1, 2, 2, 2, 2, 2, 3, 3, 4, 4, 5, 6, 7, 8 ,9 , 7, 1, 1, 10])"
      ],
      "metadata": {
        "colab": {
          "base_uri": "https://localhost:8080/"
        },
        "id": "rtpHOv45IZCW",
        "outputId": "4b04a486-2ed0-43b3-c384-e111e77a1169"
      },
      "execution_count": null,
      "outputs": [
        {
          "output_type": "execute_result",
          "data": {
            "text/plain": [
              "Counter({1: 6, 2: 5, 3: 2, 4: 2, 5: 1, 6: 1, 7: 2, 8: 1, 9: 1, 10: 1})"
            ]
          },
          "metadata": {},
          "execution_count": 58
        }
      ]
    },
    {
      "cell_type": "code",
      "source": [
        "from collections import Counter\n",
        "Counter('hello worl     d').get('l')\n",
        "Counter('hello worl     d').get('z')"
      ],
      "metadata": {
        "id": "HTcmJJ6KIhc0"
      },
      "execution_count": null,
      "outputs": []
    },
    {
      "cell_type": "code",
      "source": [
        "from collections import Counter\n",
        "\n",
        "def solution(array, n):\n",
        "    value = Counter(array).get(n)\n",
        "    return 0 if value == None else value"
      ],
      "metadata": {
        "id": "ZgtZGUURJVI1"
      },
      "execution_count": null,
      "outputs": []
    },
    {
      "cell_type": "code",
      "source": [
        "# 링크 : https://school.programmers.co.kr/learn/courses/30/lessons/120906"
      ],
      "metadata": {
        "id": "cSViR_p6LNAI"
      },
      "execution_count": null,
      "outputs": []
    },
    {
      "cell_type": "code",
      "source": [
        "def solution(n):\n",
        "    answer = 0\n",
        "    for i in str(n):\n",
        "        answer += int(i)\n",
        "    return answer\n",
        "\n",
        "def solution(n):\n",
        "    answer = sum(list(map(int, str(n))))\n",
        "    return answer"
      ],
      "metadata": {
        "id": "YtsiR_nuJfUJ"
      },
      "execution_count": null,
      "outputs": []
    },
    {
      "cell_type": "code",
      "source": [
        "# https://school.programmers.co.kr/learn/courses/30/lessons/120844"
      ],
      "metadata": {
        "id": "UGLx8oTHLtHq"
      },
      "execution_count": null,
      "outputs": []
    },
    {
      "cell_type": "code",
      "source": [
        "order = 'right'\n",
        "numbers = [1, 2, 3]\n",
        "result = []\n",
        "if order == 'right':\n",
        "    result = [numbers[-1]] + numbers[:-1]\n",
        "result"
      ],
      "metadata": {
        "id": "kVHV0zvQLtlg"
      },
      "execution_count": null,
      "outputs": []
    },
    {
      "cell_type": "code",
      "source": [
        "# result라는 변수를 안썼기 때문에\n",
        "# 공간 복잡도가 위 보다 우위에 있습니다.\n",
        "order = 'right'\n",
        "numbers = [1, 2, 3]\n",
        "if order == 'right':\n",
        "    numbers.insert(0, numbers.pop())\n",
        "numbers"
      ],
      "metadata": {
        "id": "HO__k1XtMNZr"
      },
      "execution_count": null,
      "outputs": []
    },
    {
      "cell_type": "code",
      "source": [
        "from collections import deque\n",
        "\n",
        "numbers = [1, 2, 3, 4, 5, 6, 7, 8, 9, 10]\n",
        "numbers = deque(numbers)\n",
        "\n",
        "numbers.rotate(3)\n",
        "numbers"
      ],
      "metadata": {
        "colab": {
          "base_uri": "https://localhost:8080/"
        },
        "id": "EJXuSoxkMz4p",
        "outputId": "62fbc7ad-5d40-4bdb-8702-f20dc8d95711"
      },
      "execution_count": null,
      "outputs": [
        {
          "output_type": "execute_result",
          "data": {
            "text/plain": [
              "deque([8, 9, 10, 1, 2, 3, 4, 5, 6, 7])"
            ]
          },
          "metadata": {},
          "execution_count": 66
        }
      ]
    },
    {
      "cell_type": "code",
      "source": [
        "from collections import deque\n",
        "\n",
        "def solution(numbers, direction):\n",
        "    numbers = deque(numbers)\n",
        "    if direction == \"right\": direction = 1\n",
        "    if direction == \"left\": direction = -1\n",
        "    numbers.rotate(direction)\n",
        "    return list(numbers)"
      ],
      "metadata": {
        "id": "dfVo-QhoOTas"
      },
      "execution_count": null,
      "outputs": []
    },
    {
      "cell_type": "code",
      "source": [
        "dir(numbers)\n",
        "\n",
        "# 'append',\n",
        "# 'appendleft',\n",
        "\n",
        "# 'extend',\n",
        "# 'extendleft',\n",
        "\n",
        "# 'maxlen', # LRU 알고리즘 등에 특히 유용합니다.\n",
        "# 'pop',\n",
        "# 'popleft',\n",
        "\n",
        "# 'reverse',\n",
        "# 'rotate'"
      ],
      "metadata": {
        "id": "2Nhs0YBCOARl"
      },
      "execution_count": null,
      "outputs": []
    },
    {
      "cell_type": "code",
      "source": [
        "# https://school.programmers.co.kr/learn/courses/30/lessons/120864"
      ],
      "metadata": {
        "id": "4SvRVixoWdFP"
      },
      "execution_count": null,
      "outputs": []
    },
    {
      "cell_type": "code",
      "source": [
        "\"aAb1B2cC34oOp\"\n",
        "\n",
        "# 1. findall로 숫자만 뽑아낸다.\n",
        "# 2. sub로 문자를 +로 바꾼 후 eval('1+1++++1')\n",
        "# 3. split 모든 문자[a-zA-Z]기준으로 split을 해서 sum"
      ],
      "metadata": {
        "colab": {
          "base_uri": "https://localhost:8080/",
          "height": 35
        },
        "id": "_MgFKui1NRdm",
        "outputId": "5872615b-723d-468d-90a1-e195c52e68e0"
      },
      "execution_count": null,
      "outputs": [
        {
          "output_type": "execute_result",
          "data": {
            "text/plain": [
              "'aAb1B2cC34oOp'"
            ],
            "application/vnd.google.colaboratory.intrinsic+json": {
              "type": "string"
            }
          },
          "metadata": {},
          "execution_count": 74
        }
      ]
    },
    {
      "cell_type": "code",
      "source": [
        "s = \"aAb1B2cC34oOp\"\n",
        "for i in s:\n",
        "    if (i >= 'a' and i <= 'z') or (i >= 'A' and i <= 'Z'):\n",
        "        s = s.replace(i, '-')\n",
        "        \n",
        "s.split('-')"
      ],
      "metadata": {
        "id": "IZoSq5_6YqcV"
      },
      "execution_count": null,
      "outputs": []
    },
    {
      "cell_type": "code",
      "source": [
        "import re\n",
        "\n",
        "s = \"aAb1B2cC34oOp\"\n",
        "re.split('[a-zA-Z]', s)"
      ],
      "metadata": {
        "id": "Ld6fAIkmY9CK"
      },
      "execution_count": null,
      "outputs": []
    },
    {
      "cell_type": "code",
      "source": [
        "import re\n",
        "\n",
        "s = \"aAb1B2cC34oOp\"\n",
        "re.sub('[a-zA-Z]', '+', s)\n",
        "\n",
        "# eval('+++1+2++34+++') 뒤에 +가 있어서 안됩니다."
      ],
      "metadata": {
        "id": "m2jEMMfCY94d"
      },
      "execution_count": null,
      "outputs": []
    },
    {
      "cell_type": "code",
      "source": [
        "eval('[1, 2, 3] + [4, 5, 6]')"
      ],
      "metadata": {
        "id": "yDAdg5G1Y-51"
      },
      "execution_count": null,
      "outputs": []
    },
    {
      "cell_type": "code",
      "source": [
        "import re\n",
        "\n",
        "re.findall('\\d+',\"aAb1B2cC34oOp9493abcde\")"
      ],
      "metadata": {
        "id": "vgsM1_f3Y_mf"
      },
      "execution_count": null,
      "outputs": []
    },
    {
      "cell_type": "code",
      "source": [
        "import re\n",
        "\n",
        "def solution(my_string):\n",
        "    return sum(map(int, re.findall(r'[0-9]+', my_string)))"
      ],
      "metadata": {
        "id": "xBJwZZrBZFGz"
      },
      "execution_count": null,
      "outputs": []
    },
    {
      "cell_type": "code",
      "source": [
        "# https://school.programmers.co.kr/learn/courses/30/lessons/120956"
      ],
      "metadata": {
        "id": "gHW3AFKPaBBO"
      },
      "execution_count": null,
      "outputs": []
    },
    {
      "cell_type": "code",
      "source": [
        "import re\n",
        "\n",
        "l = []\n",
        "a = [\"ayaye\", \"uuuma\", \"ye\", \"yemawoo\", \"ayaa\"]\n",
        "for i in range(len(a)):\n",
        "    p = re.findall('[aya+|ye+|woo+|ma+]', a[i])\n",
        "\n",
        "l"
      ],
      "metadata": {
        "colab": {
          "base_uri": "https://localhost:8080/"
        },
        "id": "ZBToWCxEaBaM",
        "outputId": "32aabb55-ca8d-4166-d123-63a286539aa1"
      },
      "execution_count": null,
      "outputs": [
        {
          "output_type": "execute_result",
          "data": {
            "text/plain": [
              "[]"
            ]
          },
          "metadata": {},
          "execution_count": 104
        }
      ]
    },
    {
      "cell_type": "markdown",
      "source": [
        "* 순열과 조합이 쓰이는 문제는 '완전 탐색' 문제에서 주로 사용이 됩니다. 아래와 같은 문제도 '완전 탐색'으로 손쉽게 풀 수 있습니다. 단, 효율이 좋지는 않습니다.\n",
        "* https://school.programmers.co.kr/learn/courses/30/lessons/120956"
      ],
      "metadata": {
        "id": "b_AzJp13MmcJ"
      }
    },
    {
      "cell_type": "code",
      "source": [
        "import re\n",
        "\n",
        "def solution(babbling):\n",
        "    count = 0\n",
        "    p = [\"aya\", \"ye\", \"woo\", \"ma\"]\n",
        "    for i in babbling:\n",
        "        print('------------')\n",
        "        print(i)\n",
        "        for pattern in p:\n",
        "            i = re.sub(pattern, ' ', i)\n",
        "            print(i)\n",
        "        if i.replace(' ', '') == '':\n",
        "            count += 1\n",
        "    return count\n",
        "\n",
        "solution([\"aya\", \"yee\", \"u\", \"maa\", \"wyeoo\"])"
      ],
      "metadata": {
        "id": "0BacTTMHSYbp",
        "outputId": "665a78d6-2001-4850-9278-c2c5b0e3fa74",
        "colab": {
          "base_uri": "https://localhost:8080/"
        }
      },
      "execution_count": null,
      "outputs": [
        {
          "output_type": "stream",
          "name": "stdout",
          "text": [
            "------------\n",
            "aya\n",
            " \n",
            " \n",
            " \n",
            " \n",
            "------------\n",
            "yee\n",
            "yee\n",
            " e\n",
            " e\n",
            " e\n",
            "------------\n",
            "u\n",
            "u\n",
            "u\n",
            "u\n",
            "u\n",
            "------------\n",
            "maa\n",
            "maa\n",
            "maa\n",
            "maa\n",
            " a\n",
            "------------\n",
            "wyeoo\n",
            "wyeoo\n",
            "w oo\n",
            "w oo\n",
            "w oo\n"
          ]
        },
        {
          "output_type": "execute_result",
          "data": {
            "text/plain": [
              "1"
            ]
          },
          "metadata": {},
          "execution_count": 17
        }
      ]
    },
    {
      "cell_type": "markdown",
      "source": [
        "## 순열"
      ],
      "metadata": {
        "id": "7NvN0htOMjVD"
      }
    },
    {
      "cell_type": "code",
      "source": [
        "from itertools import permutations\n",
        "\n",
        "list(permutations([1, 2, 3, 4], 2)) +\\\n",
        "list(permutations([1, 2, 3, 4], 3)) +\\\n",
        "list(permutations([1, 2, 3, 4], 4))\n",
        "\n",
        "list(permutations(range(1, 5), 2))"
      ],
      "metadata": {
        "id": "dqAs3Tr3Mzc7"
      },
      "execution_count": null,
      "outputs": []
    },
    {
      "cell_type": "code",
      "source": [
        "list(permutations('hello', 2))"
      ],
      "metadata": {
        "id": "hG4qxc0ZN_bb"
      },
      "execution_count": null,
      "outputs": []
    },
    {
      "cell_type": "code",
      "source": [
        "순열 = list(permutations([\"aya\", \"ye\", \"woo\", \"ma\"], 1)) +\\\n",
        "list(permutations([\"aya\", \"ye\", \"woo\", \"ma\"], 2)) +\\\n",
        "list(permutations([\"aya\", \"ye\", \"woo\", \"ma\"], 3)) +\\\n",
        "list(permutations([\"aya\", \"ye\", \"woo\", \"ma\"], 4))\n",
        "\n",
        "순열집합 = []\n",
        "\n",
        "for i in 순열:\n",
        "    순열집합.append(''.join(i))\n",
        "\n",
        "순열집합"
      ],
      "metadata": {
        "id": "5jZf28TMOfpd"
      },
      "execution_count": null,
      "outputs": []
    },
    {
      "cell_type": "code",
      "source": [
        "count = 0\n",
        "for i in [\"ayaye\", \"uuuma\", \"ye\", \"yemawoo\", \"ayaa\"]:\n",
        "    if i in 순열집합:\n",
        "        count += 1\n",
        "\n",
        "count"
      ],
      "metadata": {
        "colab": {
          "base_uri": "https://localhost:8080/"
        },
        "id": "4ixfavGNPIyy",
        "outputId": "db82e6b6-abca-48ef-fb5c-f70a67cc5568"
      },
      "execution_count": null,
      "outputs": [
        {
          "output_type": "execute_result",
          "data": {
            "text/plain": [
              "3"
            ]
          },
          "metadata": {},
          "execution_count": 12
        }
      ]
    },
    {
      "cell_type": "markdown",
      "source": [
        "##조합"
      ],
      "metadata": {
        "id": "413puSjPMlJs"
      }
    },
    {
      "cell_type": "markdown",
      "source": [
        "* 순서를 정하지 않고 나열한다. (nCr)"
      ],
      "metadata": {
        "id": "S7la7QYPPsEh"
      }
    },
    {
      "cell_type": "code",
      "source": [
        "from itertools import combinations\n",
        "\n",
        "list(combinations([1, 2, 3, 4], 2))\n",
        "list(combinations('abcd', 2))"
      ],
      "metadata": {
        "colab": {
          "base_uri": "https://localhost:8080/"
        },
        "id": "45LGiOCaMa7O",
        "outputId": "754e5b77-0688-4c09-ed09-7cdba797cb6f"
      },
      "execution_count": null,
      "outputs": [
        {
          "output_type": "execute_result",
          "data": {
            "text/plain": [
              "[('a', 'b'), ('a', 'c'), ('a', 'd'), ('b', 'c'), ('b', 'd'), ('c', 'd')]"
            ]
          },
          "metadata": {},
          "execution_count": 19
        }
      ]
    },
    {
      "cell_type": "markdown",
      "source": [
        "트리"
      ],
      "metadata": {
        "id": "vDtwmrryDSPo"
      }
    },
    {
      "cell_type": "code",
      "source": [
        "tree = {\n",
        "    'root': {\n",
        "        'value': 5,\n",
        "        'left': {\n",
        "            'value': 3,\n",
        "            'left': {\n",
        "                'value': 1,\n",
        "                'left': None,\n",
        "                'right': None\n",
        "            },\n",
        "            'right': {\n",
        "                'value': 4,\n",
        "                'left': None,\n",
        "                'right': None\n",
        "            },\n",
        "        },\n",
        "        'right': {\n",
        "            'value': 8,\n",
        "            'left': {\n",
        "                'value': 6,\n",
        "                'left': None,\n",
        "                'right': None\n",
        "            },\n",
        "            'right': {\n",
        "                'value': 9,\n",
        "                'left': None,\n",
        "                'right': None\n",
        "            },\n",
        "        },\n",
        "    }\n",
        "}"
      ],
      "metadata": {
        "id": "nu6uI0pbgW_J"
      },
      "execution_count": 8,
      "outputs": []
    },
    {
      "cell_type": "code",
      "source": [
        "tree['root']['left']['right']['value']"
      ],
      "metadata": {
        "colab": {
          "base_uri": "https://localhost:8080/"
        },
        "id": "jgHIwnKaEGqL",
        "outputId": "5a493f68-be51-4526-fac7-b88eb35de35b"
      },
      "execution_count": 9,
      "outputs": [
        {
          "output_type": "execute_result",
          "data": {
            "text/plain": [
              "4"
            ]
          },
          "metadata": {},
          "execution_count": 9
        }
      ]
    },
    {
      "cell_type": "code",
      "source": [
        "node1 = {\n",
        "    'value': 5,\n",
        "    'left': None,\n",
        "    'right': None\n",
        "}\n",
        "\n",
        "node2 = {\n",
        "    'value': 3,\n",
        "    'left': None,\n",
        "    'right': None\n",
        "}\n",
        "\n",
        "node3 = {\n",
        "    'value': 8,\n",
        "    'left': None,\n",
        "    'right': None\n",
        "}\n",
        "\n",
        "node4 = {\n",
        "    'value': 1,\n",
        "    'left': None,\n",
        "    'right': None\n",
        "}\n",
        "\n",
        "node5 = {\n",
        "    'value': 4,\n",
        "    'left': None,\n",
        "    'right': None\n",
        "}\n",
        "\n",
        "node6 = {\n",
        "    'value': 6,\n",
        "    'left': None,\n",
        "    'right': None\n",
        "}\n",
        "\n",
        "node7 = {\n",
        "    'value': 9,\n",
        "    'left': None,\n",
        "    'right': None\n",
        "}"
      ],
      "metadata": {
        "id": "xR_Y2BstEUOm"
      },
      "execution_count": 10,
      "outputs": []
    },
    {
      "cell_type": "code",
      "source": [
        "# 노드 연결\n",
        "node1['left'] = node2\n",
        "node1['right'] = node3\n",
        "\n",
        "node2['left'] = node4\n",
        "node2['right'] = node5\n",
        "\n",
        "node3['left'] = node6\n",
        "node3['right'] = node7"
      ],
      "metadata": {
        "id": "2AT5eqpzFFRf"
      },
      "execution_count": 11,
      "outputs": []
    },
    {
      "cell_type": "code",
      "source": [
        "# 노드 호출\n",
        "node1['left']['right']['value']"
      ],
      "metadata": {
        "colab": {
          "base_uri": "https://localhost:8080/"
        },
        "id": "byALaKJOFRqE",
        "outputId": "db19b01e-f156-4abf-f5f2-30e64a32f73e"
      },
      "execution_count": 12,
      "outputs": [
        {
          "output_type": "execute_result",
          "data": {
            "text/plain": [
              "4"
            ]
          },
          "metadata": {},
          "execution_count": 12
        }
      ]
    },
    {
      "cell_type": "code",
      "source": [
        "# 노드 선언\n",
        "class Node:\n",
        "    def __init__(self, data):\n",
        "        self.data = data\n",
        "        # self.child = [] # 2진 트리가 아니거나 그래프인 경우 등에 자주 활용\n",
        "        self.left = None\n",
        "        self.right = None\n",
        "\n",
        "\n",
        "node1 = Node(5)\n",
        "node2 = Node(3)\n",
        "node3 = Node(8)\n",
        "node4 = Node(1)\n",
        "node5 = Node(4)\n",
        "node6 = Node(6)\n",
        "node7 = Node(9)"
      ],
      "metadata": {
        "id": "lFRYx3oWFYbY"
      },
      "execution_count": 13,
      "outputs": []
    },
    {
      "cell_type": "code",
      "source": [
        "# 노드 연결\n",
        "node1.left = node2\n",
        "node1.right = node3\n",
        "\n",
        "node2.left = node4\n",
        "node2.right = node5\n",
        "\n",
        "node3.left = node6\n",
        "node3.right = node7"
      ],
      "metadata": {
        "id": "IurjxFU3IKWT"
      },
      "execution_count": 14,
      "outputs": []
    },
    {
      "cell_type": "code",
      "source": [
        "# 노드 호출\n",
        "node1.left.right.data"
      ],
      "metadata": {
        "colab": {
          "base_uri": "https://localhost:8080/"
        },
        "id": "LTdmsOLsIWXC",
        "outputId": "c5839b9b-8bda-48ee-bd48-b59e2f2f19c6"
      },
      "execution_count": 17,
      "outputs": [
        {
          "output_type": "execute_result",
          "data": {
            "text/plain": [
              "4"
            ]
          },
          "metadata": {},
          "execution_count": 17
        }
      ]
    },
    {
      "cell_type": "code",
      "source": [
        "class Node:\n",
        "    def __init__(self, data):\n",
        "        self.data = data\n",
        "        self.left = None\n",
        "        self.right = None\n",
        "\n",
        "class Tree:\n",
        "    def __init__(self, data):\n",
        "        init = Node(data)\n",
        "        self.root = init\n",
        "        self.count = 1\n",
        "\n",
        "    def __len__(self):\n",
        "        return self.count\n",
        "\n",
        "    def insert(self, data):\n",
        "        newNode = Node(data)\n",
        "        currentNode = self.root\n",
        "\n",
        "        while currentNode:\n",
        "            # 같은 값이면 값을 추가시켜주지 않습니다.\n",
        "            if data == currentNode.data:\n",
        "                return\n",
        "            elif data < currentNode.data:\n",
        "                # 왼쪽으로 가야합니다.\n",
        "                if not currentNode.left:\n",
        "                    # 만약 왼쪽 노드가 비어있으면\n",
        "                    currentNode.left = newNode\n",
        "                    self.count += 1\n",
        "                    return\n",
        "                # 만약 왼쪽 노드가 비어있지 않다면\n",
        "                currentNode = currentNode.left\n",
        "            elif data > currentNode.data:\n",
        "                # 오른쪽으로 가야합니다.\n",
        "                if not currentNode.right:\n",
        "                    # 만약 오른쪽 노드가 비어있으면\n",
        "                    currentNode.right = newNode\n",
        "                    self.count += 1\n",
        "                    return\n",
        "                # 만약 오른쪽 노드가 비어있지 않다면\n",
        "                currentNode = currentNode.right\n",
        "\n",
        "    # 깊이 우선 탐색 : 스택\n",
        "    # Depth First Search\n",
        "    def DFS(self):\n",
        "        result = []\n",
        "        stack = [self.root]\n",
        "\n",
        "        while len(stack) != 0:\n",
        "            current = stack.pop()\n",
        "            if current.right:\n",
        "                stack.append(current.right)\n",
        "            if current.left:\n",
        "                stack.append(current.left)\n",
        "            result.append(current.data)\n",
        "        return result\n",
        "\n",
        "    # 너비 우선 탐색 : 큐\n",
        "    # Breadth First Search\n",
        "    def BFS(self):\n",
        "        result = []\n",
        "        queue = [self.root]\n",
        "\n",
        "        while len(queue) != 0:\n",
        "            current = queue.pop(0)\n",
        "            if current.right:\n",
        "                queue.append(current.right)\n",
        "            if current.left:\n",
        "                queue.append(current.left)\n",
        "            result.append(current.data)\n",
        "        return result"
      ],
      "metadata": {
        "id": "XTNC8ttqIYbv"
      },
      "execution_count": 46,
      "outputs": []
    },
    {
      "cell_type": "code",
      "source": [
        "# 데이터 삽입(연결)\n",
        "t = Tree(5)\n",
        "t.insert(3)\n",
        "t.insert(8)\n",
        "t.insert(1)\n",
        "t.insert(4)\n",
        "t.insert(6)\n",
        "t.insert(9)"
      ],
      "metadata": {
        "id": "3VC1x3X3LvRb"
      },
      "execution_count": 48,
      "outputs": []
    },
    {
      "cell_type": "code",
      "source": [
        "t.root.left.data\n",
        "t.root.right.data"
      ],
      "metadata": {
        "colab": {
          "base_uri": "https://localhost:8080/"
        },
        "id": "x4j3cdHtL_gm",
        "outputId": "ac245920-6603-44d7-d497-ad5a56e3f65a"
      },
      "execution_count": 29,
      "outputs": [
        {
          "output_type": "execute_result",
          "data": {
            "text/plain": [
              "8"
            ]
          },
          "metadata": {},
          "execution_count": 29
        }
      ]
    },
    {
      "cell_type": "code",
      "source": [
        "t.DFS()"
      ],
      "metadata": {
        "colab": {
          "base_uri": "https://localhost:8080/"
        },
        "id": "eCEULHjFMTnp",
        "outputId": "6427cddd-75c2-4a8f-8036-12a85c913976"
      },
      "execution_count": 36,
      "outputs": [
        {
          "output_type": "execute_result",
          "data": {
            "text/plain": [
              "[5, 3, 1, 4, 8, 6, 9]"
            ]
          },
          "metadata": {},
          "execution_count": 36
        }
      ]
    },
    {
      "cell_type": "code",
      "source": [
        "t.BFS()"
      ],
      "metadata": {
        "colab": {
          "base_uri": "https://localhost:8080/"
        },
        "id": "iftmHZ1DQ_dF",
        "outputId": "09f249e8-a572-4159-e634-8f485039f56f"
      },
      "execution_count": 49,
      "outputs": [
        {
          "output_type": "execute_result",
          "data": {
            "text/plain": [
              "[5, 8, 3, 9, 6, 4, 1]"
            ]
          },
          "metadata": {},
          "execution_count": 49
        }
      ]
    },
    {
      "cell_type": "markdown",
      "source": [
        "## 정렬 알고리즘"
      ],
      "metadata": {
        "id": "TWnJ6hepSSUy"
      }
    },
    {
      "cell_type": "markdown",
      "source": [
        "* step 1"
      ],
      "metadata": {
        "id": "NfVa3WTXurIe"
      }
    },
    {
      "cell_type": "code",
      "source": [
        "전 = [199, 22, 33, 12, 32, 64, 72, 222, 233]\n",
        "후 = []"
      ],
      "metadata": {
        "id": "Izs65hDMuyXv"
      },
      "execution_count": null,
      "outputs": []
    },
    {
      "cell_type": "markdown",
      "source": [
        "* step 2"
      ],
      "metadata": {
        "id": "fqKGqq08uuoL"
      }
    },
    {
      "cell_type": "code",
      "source": [
        "전 = [199, 22, 33, 32, 64, 72, 222, 233]\n",
        "후 = [12]"
      ],
      "metadata": {
        "id": "usJ2brWIuxkv"
      },
      "execution_count": null,
      "outputs": []
    },
    {
      "cell_type": "markdown",
      "source": [
        "* step 3"
      ],
      "metadata": {
        "id": "RtwqjXy5uvnF"
      }
    },
    {
      "cell_type": "code",
      "source": [
        "전 = [199, 33, 32, 64, 72, 222, 233]\n",
        "후 = [12, 22]"
      ],
      "metadata": {
        "id": "3N9b8h72u0bb"
      },
      "execution_count": null,
      "outputs": []
    },
    {
      "cell_type": "markdown",
      "source": [
        "* step 4"
      ],
      "metadata": {
        "id": "BcDfeSgxuwYB"
      }
    },
    {
      "cell_type": "code",
      "source": [
        "전 = [199, 33, 64, 72, 222, 233]\n",
        "후 = [12, 22, 32]"
      ],
      "metadata": {
        "id": "UynhyFXDu1MM"
      },
      "execution_count": null,
      "outputs": []
    },
    {
      "cell_type": "code",
      "source": [
        "def 선택정렬(데이터):\n",
        "    최종결과값 = []\n",
        "    while 데이터:\n",
        "        최솟값 = min(데이터)\n",
        "        최종결과값.append(최솟값)\n",
        "        데이터.remove(최솟값)\n",
        "    return 최종결과값\n",
        "\n",
        "선택정렬([199, 22, 33, 12, 32, 64, 72, 222, 233])"
      ],
      "metadata": {
        "id": "vzYHOajxd67n"
      },
      "execution_count": null,
      "outputs": []
    },
    {
      "cell_type": "code",
      "source": [
        "def 삽입정렬(데이터):\n",
        "    최종결과값 = []\n",
        "    while 데이터:\n",
        "        꺼낸값 = 데이터.pop(0)\n",
        "        들어갈위치 = len(list(filter(lambda x:x<꺼낸값, 최종결과값)))\n",
        "        최종결과값.insert(들어갈위치, 꺼낸값)\n",
        "    return 최종결과값\n",
        "삽입정렬([199, 22, 33, 12, 32, 64, 72, 222, 233])"
      ],
      "metadata": {
        "colab": {
          "base_uri": "https://localhost:8080/"
        },
        "id": "q9uE2o1xedVb",
        "outputId": "b52e639d-945c-4dbf-e589-6ed424548e69"
      },
      "execution_count": 41,
      "outputs": [
        {
          "output_type": "execute_result",
          "data": {
            "text/plain": [
              "[12, 22, 32, 33, 64, 72, 199, 222, 233]"
            ]
          },
          "metadata": {},
          "execution_count": 41
        }
      ]
    },
    {
      "cell_type": "markdown",
      "source": [
        "병합정렬\n",
        "* Worst와 Best 모두 O(nlogn), 어떤 정렬보다 빠름, 동일 할 수 있음\n",
        "* 분할 정복(Divide and Conquer)"
      ],
      "metadata": {
        "id": "HOIQwDgXu9Am"
      }
    },
    {
      "cell_type": "code",
      "source": [
        "입력값 = [5, 10, 66, 77, 54, 32, 11, 15]\n",
        "정렬된배열 = []\n",
        "\n",
        "# 분할(이해를 돕기 위해 8개로 조정)\n",
        "[5, 10, 66, 77, 54, 32, 11, 15]\n",
        "[5, 10, 66, 77], [54, 32, 11, 15]\n",
        "[5, 10], [66, 77], [54, 32], [11, 15]\n",
        "[5], [10], [66], [77], [54], [32], [11], [15]\n",
        "\n",
        "# 정복(0번째끼리 비교!)\n",
        "[5, 10], [66, 77], [32, 54], [11, 15]\n",
        "[5, 10], [66, 77], [32, 54], [11, 15]\n",
        "[5, 10, 66, 77], [11, 15, 32, 54]\n",
        "[5, 10, 11, 15, 32, 54, 66, 77]"
      ],
      "metadata": {
        "id": "ZJpNI1LSu65Q"
      },
      "execution_count": null,
      "outputs": []
    },
    {
      "cell_type": "code",
      "source": [
        "def 병합정렬(입력리스트):\n",
        "    # 분할\n",
        "    입력리스트길이 = len(입력리스트)\n",
        "    if 입력리스트길이 <= 1:\n",
        "        return 입력리스트\n",
        "\n",
        "    중간값 = 입력리스트길이 // 2\n",
        "    그룹_하나 = 병합정렬(입력리스트[:중간값])\n",
        "    그룹_둘 = 병합정렬(입력리스트[중간값:])\n",
        "\n",
        "    # 정복\n",
        "    결과값 = []\n",
        "    while 그룹_하나 and 그룹_둘:\n",
        "        if 그룹_하나[0] < 그룹_둘[0]:\n",
        "            결과값.append(그룹_하나.pop(0))\n",
        "        else:\n",
        "            결과값.append(그룹_둘.pop(0))\n",
        "    if 그룹_하나:\n",
        "        결과값.extend(그룹_하나)\n",
        "        그룹_하나 = []\n",
        "    if 그룹_둘:\n",
        "        결과값.extend(그룹_둘)\n",
        "        그룹_둘 = []\n",
        "    return 결과값\n",
        "\n",
        "병합정렬([199, 22, 33, 12, 32, 64, 72, 222, 233])"
      ],
      "metadata": {
        "colab": {
          "base_uri": "https://localhost:8080/"
        },
        "id": "cTFCdA65fT4q",
        "outputId": "4e259ed7-ed61-4485-e9f7-ee3f902f0754"
      },
      "execution_count": 42,
      "outputs": [
        {
          "output_type": "execute_result",
          "data": {
            "text/plain": [
              "[12, 22, 32, 33, 64, 72, 199, 222, 233]"
            ]
          },
          "metadata": {},
          "execution_count": 42
        }
      ]
    },
    {
      "cell_type": "code",
      "source": [
        "def 퀵정렬(입력리스트):\n",
        "    입력리스트길이 = len(입력리스트)\n",
        "    if 입력리스트길이 <= 1:\n",
        "        return 입력리스트\n",
        "\n",
        "    기준값 = 입력리스트[-1]\n",
        "    그룹_하나 = []\n",
        "    그룹_둘 = []\n",
        "\n",
        "    for i in range(0, 입력리스트길이-1):\n",
        "        if 입력리스트[i] < 기준값:\n",
        "            그룹_하나.append(입력리스트[i])\n",
        "        else:\n",
        "            그룹_둘.append(입력리스트[i])\n",
        "\n",
        "    return 퀵정렬(그룹_하나) + [기준값] + 퀵정렬(그룹_둘)\n",
        "\n",
        "퀵정렬([199, 22, 33, 12, 32, 64, 72, 222, 233])"
      ],
      "metadata": {
        "colab": {
          "base_uri": "https://localhost:8080/"
        },
        "id": "QBPxRA9Xh5tR",
        "outputId": "e82e2ced-ea76-4566-dc49-8c925046569f"
      },
      "execution_count": 43,
      "outputs": [
        {
          "output_type": "execute_result",
          "data": {
            "text/plain": [
              "[12, 22, 32, 33, 64, 72, 199, 222, 233]"
            ]
          },
          "metadata": {},
          "execution_count": 43
        }
      ]
    }
  ]
}